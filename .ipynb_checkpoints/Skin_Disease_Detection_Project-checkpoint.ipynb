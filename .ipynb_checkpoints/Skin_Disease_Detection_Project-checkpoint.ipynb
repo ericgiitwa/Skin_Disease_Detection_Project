{
 "cells": [
  {
   "cell_type": "markdown",
   "metadata": {},
   "source": [
    "# Skin_Disease_Detection_Project"
   ]
  },
  {
   "cell_type": "markdown",
   "metadata": {},
   "source": [
    "# About the Dataset:\n",
    "This dataset is a collection of images representing various skin diseases, categorized into 20  classes. It provides an invaluable resource for image classification tasks, particularly in the fields of dermatology and medical diagnostics.\n",
    "\n",
    "### Skin Diseases:\n",
    "Acne, Actinic Carcinoma, Atopic Dermatitis, Bullous Disease, Cellulitis, Eczema, Drug Eruptions, Herpes HPV, Light Diseases, Lupus, Melanoma, Poison IVY, Psoriasis, Benign Tumors, Systemic Disease, Ringworm, Urticarial Hives, Vascular Tumors, Vasculitis, Viral Infections.\n",
    "\n",
    "## Why this project\n",
    "Skin diseases affect millions globally, ranging from benign conditions like acne to life-threatening ones like melanoma. Early and accurate diagnosis is critical but access to dermatologists is limited and expensive, especially in underserved regions like Kenya. Our goal is to be able to upload an image of your skin and our project will be able to classify what type of condition you have.\n",
    "\n",
    "## Objectives:\n",
    "* Is it possible to upload images to our deployed model to identify the skin disease?\n",
    "* Improve diagnostic efficiency by automating skin condition  diagnosis and cutting down on delays.\n",
    "* Expand access by enabling mobile diagnosis tools for rural areas.\n",
    "* Reduce costs to minimize unnecessary trips to doctors and biopsies.\n",
    "* Enhance patient outcomes by  supporting early detection of serious conditions like skin cancer.\n"
   ]
  },
  {
   "cell_type": "markdown",
   "metadata": {},
   "source": [
    "# 1. EDA and Data Understanding"
   ]
  },
  {
   "cell_type": "markdown",
   "metadata": {},
   "source": [
    "### Import modules"
   ]
  },
  {
   "cell_type": "code",
   "execution_count": null,
   "metadata": {},
   "outputs": [],
   "source": [
    "# run in terminal\n",
    "# pip install opencv-python\n",
    "# !pip install opencv-python\n",
    "# !pip install torch torchvision\n",
    "# conda install pytorch torchvision -c pytorch\n"
   ]
  },
  {
   "cell_type": "code",
   "execution_count": 6,
   "metadata": {},
   "outputs": [
    {
     "ename": "ModuleNotFoundError",
     "evalue": "No module named 'torch'",
     "output_type": "error",
     "traceback": [
      "\u001b[1;31m---------------------------------------------------------------------------\u001b[0m",
      "\u001b[1;31mModuleNotFoundError\u001b[0m                       Traceback (most recent call last)",
      "\u001b[1;32m<ipython-input-6-fbbe8da315cd>\u001b[0m in \u001b[0;36m<module>\u001b[1;34m\u001b[0m\n\u001b[0;32m     12\u001b[0m \u001b[1;32mfrom\u001b[0m \u001b[0mcollections\u001b[0m \u001b[1;32mimport\u001b[0m \u001b[0mCounter\u001b[0m\u001b[1;33m\u001b[0m\u001b[1;33m\u001b[0m\u001b[0m\n\u001b[0;32m     13\u001b[0m \u001b[1;32mimport\u001b[0m \u001b[0mjson\u001b[0m\u001b[1;33m\u001b[0m\u001b[1;33m\u001b[0m\u001b[0m\n\u001b[1;32m---> 14\u001b[1;33m \u001b[1;32mimport\u001b[0m \u001b[0mtorch\u001b[0m\u001b[1;33m\u001b[0m\u001b[1;33m\u001b[0m\u001b[0m\n\u001b[0m\u001b[0;32m     15\u001b[0m \u001b[1;32mfrom\u001b[0m \u001b[0mtorch\u001b[0m\u001b[1;33m.\u001b[0m\u001b[0mutils\u001b[0m\u001b[1;33m.\u001b[0m\u001b[0mdata\u001b[0m \u001b[1;32mimport\u001b[0m \u001b[0mDataset\u001b[0m\u001b[1;33m,\u001b[0m \u001b[0mDataLoader\u001b[0m\u001b[1;33m,\u001b[0m \u001b[0mWeightedRandomSampler\u001b[0m\u001b[1;33m\u001b[0m\u001b[1;33m\u001b[0m\u001b[0m\n\u001b[0;32m     16\u001b[0m \u001b[1;32mfrom\u001b[0m \u001b[0mtorchvision\u001b[0m \u001b[1;32mimport\u001b[0m \u001b[0mtransforms\u001b[0m\u001b[1;33m\u001b[0m\u001b[1;33m\u001b[0m\u001b[0m\n",
      "\u001b[1;31mModuleNotFoundError\u001b[0m: No module named 'torch'"
     ]
    }
   ],
   "source": [
    "# Import Libraries\n",
    "import os\n",
    "import cv2\n",
    "import random\n",
    "import hashlib\n",
    "import matplotlib.pyplot as plt\n",
    "import seaborn as sns\n",
    "from PIL import Image\n",
    "import numpy as np\n",
    "import pandas as pd\n",
    "from pathlib import Path\n",
    "from collections import Counter\n",
    "import json\n",
    "import torch\n",
    "from torch.utils.data import Dataset, DataLoader, WeightedRandomSampler\n",
    "from torchvision import transforms"
   ]
  },
  {
   "cell_type": "code",
   "execution_count": 4,
   "metadata": {},
   "outputs": [
    {
     "ename": "NameError",
     "evalue": "name 'torch' is not defined",
     "output_type": "error",
     "traceback": [
      "\u001b[1;31m---------------------------------------------------------------------------\u001b[0m",
      "\u001b[1;31mNameError\u001b[0m                                 Traceback (most recent call last)",
      "\u001b[1;32m<ipython-input-4-699d68705a8a>\u001b[0m in \u001b[0;36m<module>\u001b[1;34m\u001b[0m\n\u001b[0;32m      9\u001b[0m     \u001b[0mtorch\u001b[0m\u001b[1;33m.\u001b[0m\u001b[0mbackends\u001b[0m\u001b[1;33m.\u001b[0m\u001b[0mcudnn\u001b[0m\u001b[1;33m.\u001b[0m\u001b[0mbenchmark\u001b[0m \u001b[1;33m=\u001b[0m \u001b[1;32mFalse\u001b[0m\u001b[1;33m\u001b[0m\u001b[1;33m\u001b[0m\u001b[0m\n\u001b[0;32m     10\u001b[0m \u001b[1;33m\u001b[0m\u001b[0m\n\u001b[1;32m---> 11\u001b[1;33m \u001b[0mseed_everything\u001b[0m\u001b[1;33m(\u001b[0m\u001b[1;36m42\u001b[0m\u001b[1;33m)\u001b[0m\u001b[1;33m\u001b[0m\u001b[1;33m\u001b[0m\u001b[0m\n\u001b[0m",
      "\u001b[1;32m<ipython-input-4-699d68705a8a>\u001b[0m in \u001b[0;36mseed_everything\u001b[1;34m(seed)\u001b[0m\n\u001b[0;32m      3\u001b[0m     \u001b[0mrandom\u001b[0m\u001b[1;33m.\u001b[0m\u001b[0mseed\u001b[0m\u001b[1;33m(\u001b[0m\u001b[0mseed\u001b[0m\u001b[1;33m)\u001b[0m\u001b[1;33m\u001b[0m\u001b[1;33m\u001b[0m\u001b[0m\n\u001b[0;32m      4\u001b[0m     \u001b[0mnp\u001b[0m\u001b[1;33m.\u001b[0m\u001b[0mrandom\u001b[0m\u001b[1;33m.\u001b[0m\u001b[0mseed\u001b[0m\u001b[1;33m(\u001b[0m\u001b[0mseed\u001b[0m\u001b[1;33m)\u001b[0m\u001b[1;33m\u001b[0m\u001b[1;33m\u001b[0m\u001b[0m\n\u001b[1;32m----> 5\u001b[1;33m     \u001b[0mtorch\u001b[0m\u001b[1;33m.\u001b[0m\u001b[0mmanual_seed\u001b[0m\u001b[1;33m(\u001b[0m\u001b[0mseed\u001b[0m\u001b[1;33m)\u001b[0m\u001b[1;33m\u001b[0m\u001b[1;33m\u001b[0m\u001b[0m\n\u001b[0m\u001b[0;32m      6\u001b[0m     \u001b[0mtorch\u001b[0m\u001b[1;33m.\u001b[0m\u001b[0mcuda\u001b[0m\u001b[1;33m.\u001b[0m\u001b[0mmanual_seed_all\u001b[0m\u001b[1;33m(\u001b[0m\u001b[0mseed\u001b[0m\u001b[1;33m)\u001b[0m\u001b[1;33m\u001b[0m\u001b[1;33m\u001b[0m\u001b[0m\n\u001b[0;32m      7\u001b[0m     \u001b[0mos\u001b[0m\u001b[1;33m.\u001b[0m\u001b[0menviron\u001b[0m\u001b[1;33m[\u001b[0m\u001b[1;34m\"PYTHONHASHSEED\"\u001b[0m\u001b[1;33m]\u001b[0m \u001b[1;33m=\u001b[0m \u001b[0mstr\u001b[0m\u001b[1;33m(\u001b[0m\u001b[0mseed\u001b[0m\u001b[1;33m)\u001b[0m\u001b[1;33m\u001b[0m\u001b[1;33m\u001b[0m\u001b[0m\n",
      "\u001b[1;31mNameError\u001b[0m: name 'torch' is not defined"
     ]
    }
   ],
   "source": [
    "# Set seeds for reproducibility\n",
    "def seed_everything(seed=42):\n",
    "    random.seed(seed)\n",
    "    np.random.seed(seed)\n",
    "    torch.manual_seed(seed)\n",
    "    torch.cuda.manual_seed_all(seed)\n",
    "    os.environ[\"PYTHONHASHSEED\"] = str(seed)\n",
    "    torch.backends.cudnn.deterministic = True\n",
    "    torch.backends.cudnn.benchmark = False\n",
    "\n",
    "seed_everything(42)"
   ]
  },
  {
   "cell_type": "code",
   "execution_count": null,
   "metadata": {},
   "outputs": [],
   "source": [
    "# Set plot style\n",
    "sns.set(style='whitegrid')"
   ]
  },
  {
   "cell_type": "markdown",
   "metadata": {},
   "source": [
    "## Explore dataset"
   ]
  },
  {
   "cell_type": "markdown",
   "metadata": {},
   "source": [
    "Let's define the dataset path and explore the folder structure."
   ]
  },
  {
   "cell_type": "code",
   "execution_count": null,
   "metadata": {},
   "outputs": [],
   "source": [
    "# Define dataset paths\n",
    "DATASET_DIR = Path(\"datasets/Dataset\")\n",
    "TRAIN_DIR = DATASET_DIR / \"train\"\n",
    "TEST_DIR = DATASET_DIR / \"test\"\n",
    "\n",
    "# Explore dataset structure\n",
    "train_classes = sorted([d.name for d in TRAIN_DIR.iterdir() if d.is_dir()])\n",
    "test_classes = sorted([d.name for d in TEST_DIR.iterdir() if d.is_dir()])\n",
    "\n",
    "print(f\"Train classes: {len(train_classes)}\")\n",
    "print(f\"Test classes: {len(test_classes)}\")\n",
    "print(\"Sample classes:\", train_classes[:5])\n",
    "\n",
    "extra_test_class = set(test_classes) - set(train_classes)\n",
    "print(\"Class in test but not in train:\", extra_test_class)"
   ]
  },
  {
   "cell_type": "markdown",
   "metadata": {},
   "source": [
    "We've confirmed that the dataset has 19 training classes and 20 test classes and it is organized into subfolders, one per skin disease category. Our observation is that the test set has 1 more class than the training set.\n",
    "\n",
    "We found that the test set contains one additional class Bullous Disease Photos which is not present in the training set. This will lead to a cold start problem, as the model will not have learned to recognize this class. Unless training data for this class is added, we should exclude it from performance evaluation or explicitly note it as a limitation of the dataset."
   ]
  },
  {
   "cell_type": "code",
   "execution_count": null,
   "metadata": {},
   "outputs": [],
   "source": [
    "# Classes to exclude \n",
    "EXCLUDED_CLASSES = {\"Bullous Disease Photos\"}"
   ]
  },
  {
   "cell_type": "markdown",
   "metadata": {},
   "source": [
    "## Count Images per Class (Train vs Test)"
   ]
  },
  {
   "cell_type": "markdown",
   "metadata": {},
   "source": [
    "Let's count the number of .jpg images in each class folder for both train/ and test/ splits as this will help reveal the overall dataset size and the per-class distribution which we will use for class imbalance detection."
   ]
  },
  {
   "cell_type": "code",
   "execution_count": null,
   "metadata": {},
   "outputs": [],
   "source": [
    "def count_images(folder, excluded_classes=None):\n",
    "    if excluded_classes is None:\n",
    "        excluded_classes = set()\n",
    "    return {\n",
    "        cls.name: len(list(cls.glob(\"*.jpg\")))\n",
    "        for cls in folder.iterdir()\n",
    "        if cls.is_dir() and cls.name not in excluded_classes\n",
    "    }\n",
    "\n",
    "train_counts = count_images(TRAIN_DIR)\n",
    "test_counts = count_images(TEST_DIR, excluded_classes=EXCLUDED_CLASSES)\n",
    "\n",
    "# Combine into DataFrame\n",
    "df_dist = pd.DataFrame({\n",
    "    \"Class\": list(train_counts.keys()),\n",
    "    \"Train Count\": list(train_counts.values()),\n",
    "    \"Test Count\": [test_counts.get(cls, 0) for cls in train_counts.keys()]\n",
    "})\n",
    "df_dist[\"Total\"] = df_dist[\"Train Count\"] + df_dist[\"Test Count\"]\n",
    "df_dist = df_dist.sort_values(\"Total\", ascending=False)\n",
    "\n",
    "print(df_dist.head())"
   ]
  },
  {
   "cell_type": "markdown",
   "metadata": {},
   "source": [
    "We've observed that class \"Acne and Rosacea Photos\" has by far the most samples (840 in train, 231 in test). Other classes like “Tinea Ringworm” have significantly fewer images. This confirms a strong class imbalance.\n",
    "\n",
    "Models trained on imbalanced datasets tend to become biased toward overrepresented classes which will lead to poor generalization. In medical diagnosis tasks, this can have critical consequences."
   ]
  },
  {
   "cell_type": "markdown",
   "metadata": {},
   "source": [
    "## Plot Distribution (Train vs Test)"
   ]
  },
  {
   "cell_type": "markdown",
   "metadata": {},
   "source": [
    "Let's visualise the number of images per class in both the training and test sets for easy visualisations."
   ]
  },
  {
   "cell_type": "code",
   "execution_count": null,
   "metadata": {},
   "outputs": [],
   "source": [
    "plt.figure(figsize=(14, 6))\n",
    "df_melted = df_dist.melt(id_vars=\"Class\", value_vars=[\"Train Count\", \"Test Count\"])\n",
    "\n",
    "sns.barplot(data=df_melted, x=\"value\", y=\"Class\", hue=\"variable\", palette=\"Set2\")\n",
    "plt.title(\"Train/Test Image Count per Class\", fontsize=16)\n",
    "plt.xlabel(\"Number of Images\")\n",
    "plt.ylabel(\"Skin Disease Class\")\n",
    "plt.tight_layout()\n",
    "plt.show()\n"
   ]
  },
  {
   "cell_type": "markdown",
   "metadata": {},
   "source": [
    "The dataset follows a long-tail pattern, where a few classes dominate the total image count, and the majority of classes have very few examples which should be addressed.\n",
    "\n",
    "It contains 20 skin disease classes in both train and test folders. It is severely imbalanced as the class “Acne and Rosacea Photos” alone has over 800 training images, which far exceeds all others.\n",
    "\n",
    "On the opposite extreme, several classes such as “Urticaria Hives”, “Vasculitis Photos”, and “Exanthems and Drug Eruptions” have fewer than 50 images in total.\n",
    "\n",
    "Test sets are consistently smaller but some classes e.g., “Urticaria Hives” appear to have no test examples at all or a very small number which may hinder generalization performance tracking."
   ]
  },
  {
   "cell_type": "markdown",
   "metadata": {},
   "source": [
    "## Image Dimension Analysis"
   ]
  },
  {
   "cell_type": "markdown",
   "metadata": {},
   "source": [
    "Let's examine the width and height of all images in both train and test folders to ensures that preprocessing will not lead to loss of crucial visual features."
   ]
  },
  {
   "cell_type": "code",
   "execution_count": null,
   "metadata": {},
   "outputs": [],
   "source": [
    "def collect_image_sizes(folder):\n",
    "    sizes = []\n",
    "    for class_dir in folder.iterdir():\n",
    "        if class_dir.is_dir():\n",
    "            for img_path in class_dir.glob(\"*.jpg\"):\n",
    "                try:\n",
    "                    with Image.open(img_path) as img:\n",
    "                        sizes.append(img.size)\n",
    "                except:\n",
    "                    continue\n",
    "    return sizes\n",
    "\n",
    "train_sizes = collect_image_sizes(TRAIN_DIR)\n",
    "test_sizes = collect_image_sizes(TEST_DIR)\n",
    "all_sizes = train_sizes + test_sizes\n",
    "\n",
    "widths = [w for w, h in all_sizes]\n",
    "heights = [h for w, h in all_sizes]\n",
    "\n",
    "plt.figure(figsize=(14, 5))\n",
    "plt.subplot(1, 2, 1)\n",
    "sns.histplot(widths, bins=30, color='skyblue')\n",
    "plt.title(\"Image Width Distribution\")\n",
    "plt.xlabel(\"Width (pixels)\")\n",
    "\n",
    "plt.subplot(1, 2, 2)\n",
    "sns.histplot(heights, bins=30, color='salmon')\n",
    "plt.title(\"Image Height Distribution\")\n",
    "plt.xlabel(\"Height (pixels)\")\n",
    "plt.tight_layout()\n",
    "plt.show()"
   ]
  },
  {
   "cell_type": "markdown",
   "metadata": {},
   "source": [
    "Most images are around 480–500 pixels wide, with a major peak at around 720 pixels. Most images fall between 480 and 750 pixels, with some outliers up to 1100 pixels tall. The majority of the dataset is reasonably consistent in size, but there are a few scattered outliers."
   ]
  },
  {
   "cell_type": "markdown",
   "metadata": {},
   "source": [
    "## Sample Image Grid (One per Class)"
   ]
  },
  {
   "cell_type": "markdown",
   "metadata": {},
   "source": [
    "Let's display one random image from each class in the training set to provide a quick visual sanity check and labeling allowing quick verification of image quality, class separation, source authenticity."
   ]
  },
  {
   "cell_type": "code",
   "execution_count": null,
   "metadata": {},
   "outputs": [],
   "source": [
    "def plot_image_grid(data_dir, classes, images_per_class=1):\n",
    "    plt.figure(figsize=(16, 10))\n",
    "    class_dirs = list(data_dir.iterdir())\n",
    "\n",
    "    shown = 0\n",
    "    for class_index, class_folder in enumerate(class_dirs):\n",
    "        if not class_folder.is_dir() or class_folder.name in EXCLUDED_CLASSES:\n",
    "            continue\n",
    "        image_files = list(class_folder.glob(\"*.jpg\"))\n",
    "        if not image_files:\n",
    "            continue\n",
    "\n",
    "        for i in range(images_per_class):\n",
    "            if shown >= len(classes):\n",
    "                break\n",
    "            img_path = random.choice(image_files)\n",
    "            try:\n",
    "                img = Image.open(img_path)\n",
    "            except:\n",
    "                continue\n",
    "\n",
    "            plt.subplot(4, 5, shown + 1)\n",
    "            plt.imshow(img)\n",
    "            plt.title(class_folder.name[:30], fontsize=9)\n",
    "            plt.axis('off')\n",
    "\n",
    "            shown += 1\n",
    "\n",
    "    plt.suptitle(\"Sample Images from Each Class\", fontsize=16)\n",
    "    plt.tight_layout()\n",
    "    plt.subplots_adjust(top=0.92)\n",
    "    plt.show()\n",
    "\n",
    "plot_image_grid(TRAIN_DIR, train_classes, images_per_class=1)"
   ]
  },
  {
   "cell_type": "markdown",
   "metadata": {},
   "source": [
    "All images are readable, in good resolution, and not corrupted.The Dermnet watermark confirms the medical source is authentic. No blank, noisy, or mislabeled images were observed in this sample.\n",
    "\n",
    "Some classes are visually distinctive, such as Acne and Rosacea, Tinea Ringworm, and Vascular Tumors while others appear visually similar, e.g Seborrheic Keratoses, Psoriasis, and Lupus"
   ]
  },
  {
   "cell_type": "markdown",
   "metadata": {},
   "source": [
    "## Leaked images between train and test"
   ]
  },
  {
   "cell_type": "markdown",
   "metadata": {},
   "source": [
    "Let's also ensure no test images are accidentally in training"
   ]
  },
  {
   "cell_type": "code",
   "execution_count": null,
   "metadata": {},
   "outputs": [],
   "source": [
    "def hash_image(image_path):\n",
    "    try:\n",
    "        with open(image_path, 'rb') as f:\n",
    "            return hashlib.md5(f.read()).hexdigest()\n",
    "    except:\n",
    "        return None\n",
    "\n",
    "def collect_image_hashes(dataset_path):\n",
    "    hashes = set()\n",
    "    for cls in dataset_path.iterdir():\n",
    "        for img in cls.glob(\"*.jpg\"):\n",
    "            h = hash_image(img)\n",
    "            if h:\n",
    "                hashes.add(h)\n",
    "    return hashes\n",
    "\n",
    "train_hashes = collect_image_hashes(TRAIN_DIR)\n",
    "test_hashes = collect_image_hashes(TEST_DIR)\n",
    "leaks = train_hashes.intersection(test_hashes)\n",
    "print(f\"Leaked images between train and test: {len(leaks)}\")"
   ]
  },
  {
   "cell_type": "markdown",
   "metadata": {},
   "source": [
    "There are 209 leaked images between the train and test datasets. This is a critical data quality issue which can significantly inflate the model’s test performance and hurt generalization. Let's resolve this"
   ]
  },
  {
   "cell_type": "code",
   "execution_count": null,
   "metadata": {},
   "outputs": [],
   "source": [
    "for cls_dir in TEST_DIR.iterdir():\n",
    "    if not cls_dir.is_dir():\n",
    "        continue\n",
    "    for img_path in cls_dir.glob(\"*.jpg\"):\n",
    "        h = hash_image(img_path)\n",
    "        if h in train_hashes:\n",
    "            try:\n",
    "                os.remove(img_path)\n",
    "                print(f\"Removed duplicate test image: {img_path}\")\n",
    "            except Exception as e:\n",
    "                print(f\"Failed to remove {img_path}: {e}\")"
   ]
  },
  {
   "cell_type": "code",
   "execution_count": null,
   "metadata": {},
   "outputs": [],
   "source": [
    "train_hashes = collect_image_hashes(TRAIN_DIR)\n",
    "test_hashes = collect_image_hashes(TEST_DIR)\n",
    "leaks = train_hashes.intersection(test_hashes)\n",
    "print(f\"Leaked images between train and test: {len(leaks)}\")"
   ]
  },
  {
   "cell_type": "markdown",
   "metadata": {},
   "source": [
    "There are now zero leaked images."
   ]
  },
  {
   "cell_type": "markdown",
   "metadata": {},
   "source": [
    "## Remove corrupted images"
   ]
  },
  {
   "cell_type": "markdown",
   "metadata": {},
   "source": [
    "Let's identify and remove corrupted or unreadable image files that may cause issues during training. "
   ]
  },
  {
   "cell_type": "code",
   "execution_count": null,
   "metadata": {},
   "outputs": [],
   "source": [
    "print(\"\\n=== Removing Corrupted Images ===\")\n",
    "\n",
    "def remove_corrupted_images(directory):\n",
    "    corrupted = []\n",
    "    for class_dir in Path(directory).iterdir():\n",
    "        if class_dir.is_dir():\n",
    "            for img_path in class_dir.glob(\"*.jpg\"):\n",
    "                try:\n",
    "                    with Image.open(img_path) as img:\n",
    "                        img.verify()  \n",
    "                        img = Image.open(img_path).convert('RGB')  \n",
    "                        if img.size[0] < 10 or img.size[1] < 10:  \n",
    "                            raise ValueError(\"Image too small\")\n",
    "                except (IOError, OSError, ValueError) as e:\n",
    "                    os.remove(img_path)\n",
    "                    corrupted.append((img_path, str(e)))\n",
    "    return corrupted\n",
    "\n",
    "train_corrupted = remove_corrupted_images(TRAIN_DIR)\n",
    "test_corrupted = remove_corrupted_images(TEST_DIR)\n",
    "\n",
    "print(f\"\\nRemoved {len(train_corrupted)} corrupted train images\")\n",
    "print(f\"Removed {len(test_corrupted)} corrupted test images\")\n",
    "\n",
    "# Rebuild hashes after corruption removal \n",
    "train_hashes = collect_image_hashes(TRAIN_DIR)\n",
    "test_hashes = collect_image_hashes(TEST_DIR)"
   ]
  },
  {
   "cell_type": "markdown",
   "metadata": {},
   "source": [
    "There were no corrupted images to remove. But it was a good safety measure"
   ]
  },
  {
   "cell_type": "markdown",
   "metadata": {},
   "source": [
    "### Create test checksum"
   ]
  },
  {
   "cell_type": "markdown",
   "metadata": {},
   "source": [
    "Let's create a test checksum to verify the version and ensure reproductibility"
   ]
  },
  {
   "cell_type": "code",
   "execution_count": null,
   "metadata": {},
   "outputs": [],
   "source": [
    "from hashlib import md5\n",
    "\n",
    "def collect_image_hashes(directory):\n",
    "    hashes = []\n",
    "    for root, _, files in os.walk(directory):\n",
    "        for f in sorted(files):\n",
    "            if f.lower().endswith(('png', 'jpg', 'jpeg')):\n",
    "                with open(os.path.join(root, f), 'rb') as img_file:\n",
    "                    img_hash = md5(img_file.read()).hexdigest()\n",
    "                    hashes.append(img_hash)\n",
    "    return hashes\n",
    "\n",
    "def dataset_checksum(directory):\n",
    "    all_hashes = sorted(collect_image_hashes(directory))\n",
    "    return md5(''.join(all_hashes).encode()).hexdigest()\n",
    "\n",
    "print(\"Test set checksum:\", dataset_checksum(TEST_DIR))\n"
   ]
  },
  {
   "cell_type": "markdown",
   "metadata": {},
   "source": [
    "This represents a unique fingerprint of the current test set image files. Let's show the updated final number of test images per class after removing duplicates and corrupted images"
   ]
  },
  {
   "cell_type": "code",
   "execution_count": null,
   "metadata": {},
   "outputs": [],
   "source": [
    "def count_images(directory, excluded_classes=None):\n",
    "    counts = {}\n",
    "    for class_dir in os.listdir(directory):\n",
    "        if excluded_classes and class_dir in excluded_classes:\n",
    "            continue\n",
    "        class_path = os.path.join(directory, class_dir)\n",
    "        if os.path.isdir(class_path):\n",
    "            counts[class_dir] = len([\n",
    "                f for f in os.listdir(class_path) \n",
    "                if f.lower().endswith(('jpg', 'jpeg', 'png'))\n",
    "            ])\n",
    "    return counts\n",
    "\n",
    "test_counts = count_images(TEST_DIR, excluded_classes=EXCLUDED_CLASSES)\n",
    "print(\"Test counts after leak removal:\", test_counts)\n"
   ]
  },
  {
   "cell_type": "markdown",
   "metadata": {},
   "source": [
    "Some classes now have very few test samples such as 'Vasculitis Photos': 1,"
   ]
  },
  {
   "cell_type": "markdown",
   "metadata": {},
   "source": [
    "# 2. Preprocessing Pipeline"
   ]
  },
  {
   "cell_type": "markdown",
   "metadata": {},
   "source": [
    "From our EDA and Data Understanding, we have observed that there is need to prepare the images for modeling by resizing the images to ensure that they're all the same shape (preferrably 224×224), Normalizing and Augmenting to help model generalize.\n",
    "\n",
    "The input size of 224×224 is chosen as it's a standard for many pretrained models like ResNet, MobileNet among others allowing for easy transfer learning.\n",
    "\n",
    "We will use a well-structured PyTorch-compatible pipeline."
   ]
  },
  {
   "cell_type": "markdown",
   "metadata": {},
   "source": [
    "## Define Transforms"
   ]
  },
  {
   "cell_type": "markdown",
   "metadata": {},
   "source": [
    "The transformations below ensure that:\n",
    "\n",
    "1. All images are resized to the same shape for batch processing\n",
    "\n",
    "2. Training images receive random variations (augmentations) to improve generalization\n",
    "\n",
    "3. Pixel intensities are normalized to match ImageNet pretrained model expectations."
   ]
  },
  {
   "cell_type": "code",
   "execution_count": null,
   "metadata": {},
   "outputs": [],
   "source": [
    "# Define image size for consistency \n",
    "IMAGE_SIZE = 224\n",
    "\n",
    "train_transforms = transforms.Compose([\n",
    "    transforms.Resize((IMAGE_SIZE, IMAGE_SIZE)),\n",
    "    transforms.RandomHorizontalFlip(p=0.5),\n",
    "    transforms.RandomRotation(degrees=15),\n",
    "    transforms.RandomResizedCrop(IMAGE_SIZE, scale=(0.8, 1.0)),\n",
    "    transforms.ColorJitter(brightness=0.2, contrast=0.2, saturation=0.2, hue=0.05),\n",
    "    transforms.ToTensor(),\n",
    "    transforms.Normalize(mean=[0.485, 0.456, 0.406],\n",
    "                         std=[0.229, 0.224, 0.225])\n",
    "])\n",
    "\n",
    "test_transforms = transforms.Compose([\n",
    "    transforms.Resize((IMAGE_SIZE, IMAGE_SIZE)),\n",
    "    transforms.ToTensor(),\n",
    "    transforms.Normalize(mean=[0.485, 0.456, 0.406],\n",
    "                         std=[0.229, 0.224, 0.225])\n",
    "])"
   ]
  },
  {
   "cell_type": "markdown",
   "metadata": {},
   "source": [
    "## Building a class"
   ]
  },
  {
   "cell_type": "markdown",
   "metadata": {},
   "source": [
    "Let's build a class which ensures the dataset is compatible with PyTorch’s DataLoader, and allows us to apply resizing, augmentation, and normalization on the fly during training."
   ]
  },
  {
   "cell_type": "code",
   "execution_count": null,
   "metadata": {},
   "outputs": [],
   "source": [
    "class SkinDiseaseDataset(Dataset):\n",
    "    def __init__(self, root_dir, transform=None, exclude_classes=None):\n",
    "        self.root_dir = root_dir\n",
    "        self.transform = transform\n",
    "        self.image_paths = []\n",
    "        self.labels = []\n",
    "        self.class_to_idx = {}\n",
    "        if exclude_classes is None:\n",
    "            exclude_classes = set()\n",
    "\n",
    "        for idx, class_name in enumerate(sorted(os.listdir(root_dir))):\n",
    "            if class_name in exclude_classes:\n",
    "                continue\n",
    "            class_path = os.path.join(root_dir, class_name)\n",
    "            if os.path.isdir(class_path):\n",
    "                self.class_to_idx[class_name] = idx\n",
    "                for fname in os.listdir(class_path):\n",
    "                    if fname.endswith('.jpg'):\n",
    "                        self.image_paths.append(os.path.join(class_path, fname))\n",
    "                        self.labels.append(idx)\n",
    "\n",
    "    def __len__(self):\n",
    "        return len(self.image_paths)\n",
    "\n",
    "    def __getitem__(self, idx):\n",
    "        image_path = self.image_paths[idx]\n",
    "        label = self.labels[idx]\n",
    "        try:\n",
    "            image = Image.open(image_path)\n",
    "            if image.mode != 'RGB':\n",
    "                image = image.convert('RGB')\n",
    "        except Exception as e:\n",
    "            print(f\"Error reading image {image_path}: {e}\")\n",
    "            return self.__getitem__((idx + 1) % len(self.image_paths))\n",
    "\n",
    "        if self.transform:\n",
    "            image = self.transform(image)\n",
    "        return image, label"
   ]
  },
  {
   "cell_type": "markdown",
   "metadata": {},
   "source": [
    "## Dataset Initialisation"
   ]
  },
  {
   "cell_type": "code",
   "execution_count": null,
   "metadata": {},
   "outputs": [],
   "source": [
    "train_dataset = SkinDiseaseDataset(TRAIN_DIR, transform=train_transforms)\n",
    "test_dataset = SkinDiseaseDataset(TEST_DIR, transform=test_transforms, exclude_classes=EXCLUDED_CLASSES)"
   ]
  },
  {
   "cell_type": "markdown",
   "metadata": {},
   "source": [
    "## Class weights for imbalance"
   ]
  },
  {
   "cell_type": "markdown",
   "metadata": {},
   "source": [
    "Let us also class weights for imbalance handling and to ensure fair learning across all disease categories."
   ]
  },
  {
   "cell_type": "code",
   "execution_count": null,
   "metadata": {},
   "outputs": [],
   "source": [
    "label_counts = Counter(train_dataset.labels)\n",
    "total = sum(label_counts.values())\n",
    "class_weights = {cls: total / count for cls, count in label_counts.items()}\n",
    "weights = [class_weights[label] for label in train_dataset.labels]\n",
    "sampler = WeightedRandomSampler(weights, num_samples=len(weights), replacement=True)\n",
    "\n",
    "plt.figure(figsize=(12, 4))\n",
    "plt.bar(range(len(class_weights)), list(class_weights.values()))\n",
    "plt.xlabel('Class ID')\n",
    "plt.xticks(range(len(class_weights)), \n",
    "           [list(train_dataset.class_to_idx.keys())[i] for i in range(len(class_weights))],\n",
    "           rotation=90)\n",
    "plt.ylabel('Sampling Weight')\n",
    "plt.title('Class Sampling Weights')\n",
    "plt.show()"
   ]
  },
  {
   "cell_type": "markdown",
   "metadata": {},
   "source": [
    "The plot confirms the sampler will aggressively oversample rare classes while dominant classes like \"Acne and Rosacea\" are appropriately downweighted."
   ]
  },
  {
   "cell_type": "markdown",
   "metadata": {},
   "source": [
    "## Proof data augmentation pipeline works"
   ]
  },
  {
   "cell_type": "markdown",
   "metadata": {},
   "source": [
    "To ensure our data augmentation pipeline is working as intended, we visualize a few randomly selected transformed training images."
   ]
  },
  {
   "cell_type": "code",
   "execution_count": null,
   "metadata": {},
   "outputs": [],
   "source": [
    "def show_original_vs_augmented(dataset, n=3):\n",
    "    fig, axes = plt.subplots(2, n, figsize=(15, 6))\n",
    "    \n",
    "    for i in range(n):\n",
    "        # Get the original image path\n",
    "        idx = random.randint(0, len(dataset) - 1)\n",
    "        image_path = dataset.image_paths[idx]\n",
    "\n",
    "        # Load original image using PIL\n",
    "        original_image = Image.open(image_path).convert('RGB')\n",
    "        axes[0, i].imshow(original_image)\n",
    "        axes[0, i].set_title(\"Original\")\n",
    "        axes[0, i].axis('off')\n",
    "\n",
    "        # Load augmented tensor\n",
    "        augmented_tensor, _ = dataset[idx]\n",
    "        # Unnormalize for visualization\n",
    "        unnormalized = augmented_tensor.permute(1, 2, 0).numpy() * [0.229, 0.224, 0.225] + [0.485, 0.456, 0.406]\n",
    "        unnormalized = np.clip(unnormalized, 0, 1)\n",
    "        axes[1, i].imshow(unnormalized)\n",
    "        axes[1, i].set_title(\"Augmented\")\n",
    "        axes[1, i].axis('off')\n",
    "\n",
    "    plt.tight_layout()\n",
    "    plt.show()\n",
    "\n",
    "# Run the visualization\n",
    "show_original_vs_augmented(train_dataset)"
   ]
  },
  {
   "cell_type": "markdown",
   "metadata": {},
   "source": [
    "The bottom row shows transformations such as random rotation, flipping, resizing, and slight distortion (if added), while the top row shows the original images. This confirms that the augmentations are working correctly and introduce useful variability, which helps in improving the model's generalization."
   ]
  },
  {
   "cell_type": "markdown",
   "metadata": {},
   "source": [
    "## DataLoader Setup"
   ]
  },
  {
   "cell_type": "code",
   "execution_count": null,
   "metadata": {},
   "outputs": [],
   "source": [
    "train_loader = DataLoader(train_dataset, batch_size=32, sampler=sampler, num_workers=2)\n",
    "test_loader = DataLoader(test_dataset, batch_size=32, shuffle=False, num_workers=2)"
   ]
  },
  {
   "cell_type": "markdown",
   "metadata": {},
   "source": [
    "These will handle batching, shuffling, and parallel data loading."
   ]
  },
  {
   "cell_type": "markdown",
   "metadata": {},
   "source": [
    "## Show class mapping"
   ]
  },
  {
   "cell_type": "markdown",
   "metadata": {},
   "source": [
    "Let us show how class names have been mapped to numerical labels."
   ]
  },
  {
   "cell_type": "code",
   "execution_count": null,
   "metadata": {},
   "outputs": [],
   "source": [
    "# Show class mapping\n",
    "print(train_dataset.class_to_idx)\n",
    "\n",
    "# Save mapping for inference\n",
    "with open(\"class_to_idx.json\", \"w\") as f:\n",
    "    json.dump(train_dataset.class_to_idx, f)"
   ]
  },
  {
   "cell_type": "markdown",
   "metadata": {},
   "source": [
    "The dataset contains 19 unique classes, each correctly mapped to a numerical index. This mapping will be used during training and prediction to associate model outputs with the corresponding skin disease class."
   ]
  },
  {
   "cell_type": "code",
   "execution_count": null,
   "metadata": {},
   "outputs": [],
   "source": []
  },
  {
   "cell_type": "code",
   "execution_count": null,
   "metadata": {},
   "outputs": [],
   "source": []
  },
  {
   "cell_type": "markdown",
   "metadata": {},
   "source": [
    "### importing of the models we will be using"
   ]
  },
  {
   "cell_type": "code",
   "execution_count": null,
   "metadata": {},
   "outputs": [],
   "source": [
    "import numpy as np\n",
    "from sklearn.model_selection import train_test_split\n",
    "from tensorflow.keras.models import Sequential\n",
    "from tensorflow.keras.preprocessing.image import ImageDataGenerator #image classification model\n",
    "from tensorflow.keras.preprocessing.image import array_to_img, img_to_array, load_img\n",
    "import matplotlib.pyplot as plt\n",
    "%matplotlib inline\n",
    "\n",
    "from tensorflow.keras.layers import Conv2D, MaxPooling2D, Flatten, Dense, Dropout"
   ]
  },
  {
   "cell_type": "markdown",
   "metadata": {},
   "source": [
    "What Does ImageDataGenerator Do?\n",
    "ImageDataGenerator:\n",
    "\n",
    "Loads images from directories in real time\n",
    "\n",
    "Applies preprocessing and augmentation\n",
    "\n",
    "Feeds data into your model in batches, preventing memory overload"
   ]
  },
  {
   "cell_type": "code",
   "execution_count": null,
   "metadata": {},
   "outputs": [],
   "source": [
    "#importing of the data\n",
    "train_dir = 'datasets/Dataset/train' #contains labled data for training the model\n",
    "test_dir = 'datasets/Dataset/test' # contains untrained data\n"
   ]
  },
  {
   "cell_type": "code",
   "execution_count": null,
   "metadata": {},
   "outputs": [],
   "source": [
    "#creating a pipeline for imagegenerator for easy data cleaning and classification of each image for ease of code\n",
    "datagen = ImageDataGenerator(\n",
    "    rescale=1./255,\n",
    "    rotation_range=20,\n",
    "    zoom_range=0.2,\n",
    "    horizontal_flip=True,\n",
    "    validation_split=0.2 \n",
    ")\n",
    "\n",
    "train_generator = datagen.flow_from_directory(\n",
    "    train_dir,\n",
    "    target_size=(64, 64),#reshaping them for each picture to be 64 x 64 pixels\n",
    "    batch_size=32,\n",
    "    class_mode='categorical',\n",
    "    subset='training'\n",
    ")\n",
    "\n",
    "val_generator = datagen.flow_from_directory(\n",
    "    train_dir,\n",
    "    target_size=(64, 64), #reshaping them for each picture to be 64 x 64 pixels\n",
    "    batch_size=32,\n",
    "    class_mode='categorical',\n",
    "    subset='validation'\n",
    ")\n"
   ]
  },
  {
   "cell_type": "markdown",
   "metadata": {},
   "source": [
    "#### Parameter\n",
    "* rescale=1./255\tNormalizes pixel values to [0, 1] \n",
    "* range\tCrucial for stabilizing neural network training\n",
    "* rotation_range=20\tRandomly rotates images (up to 20 degrees)\tHelps model generalize better across rotated inputs\n",
    "* zoom_range=0.2\tRandom zoom-in/out up to 20%\tMakes model robust to varied image scales\n",
    "* horizontal_flip=True\tRandomly flips images horizontally\tUseful for symmetric patterns in skin lesions\n",
    "* validation_split=0.2\tSplits 20% of training data for validation\tVital for performance tracking during training"
   ]
  },
  {
   "cell_type": "code",
   "execution_count": null,
   "metadata": {},
   "outputs": [],
   "source": [
    "test_datagen = ImageDataGenerator(rescale=1./255)\n",
    "\n",
    "test_generator = test_datagen.flow_from_directory(\n",
    "    test_dir,\n",
    "    target_size=(224, 224),\n",
    "    batch_size=32,\n",
    "    class_mode=None,  # assuming test is unlabeled\n",
    "    shuffle=False\n",
    ")\n"
   ]
  },
  {
   "cell_type": "markdown",
   "metadata": {},
   "source": [
    "### Previewing images\n",
    "* IMAGE WARNING!!!"
   ]
  },
  {
   "cell_type": "code",
   "execution_count": null,
   "metadata": {},
   "outputs": [],
   "source": []
  },
  {
   "cell_type": "code",
   "execution_count": null,
   "metadata": {},
   "outputs": [],
   "source": []
  },
  {
   "cell_type": "code",
   "execution_count": null,
   "metadata": {},
   "outputs": [],
   "source": [
    "#plotting the images in the dataset\n",
    "images, labels = next(train_generator)\n",
    "plt.figure(figsize=(10, 10))\n",
    "for i in range(9):\n",
    "    plt.subplot(3, 3, i + 1)\n",
    "    plt.imshow(images[i])\n",
    "    plt.title(f\"Class: {list(train_generator.class_indices.keys())[np.argmax(labels[i])]}\")\n",
    "    plt.axis('off')\n",
    "plt.tight_layout()\n",
    "plt.show()\n",
    "# they are blurry are we reduced the image size to 64x64 size"
   ]
  },
  {
   "cell_type": "markdown",
   "metadata": {},
   "source": [
    "# building a base model"
   ]
  },
  {
   "cell_type": "code",
   "execution_count": null,
   "metadata": {},
   "outputs": [],
   "source": [
    "model = Sequential()\n",
    "#1 layer\n",
    "model.add(Conv2D(32, (3, 3), activation='relu', input_shape=(224, 224, 3)))\n",
    "model.add(MaxPooling2D(pool_size=(2, 2)))\n",
    "\n",
    "#2 layer\n",
    "model.add(Conv2D(64, (3, 3), activation='relu'))\n",
    "model.add(MaxPooling2D(pool_size=(2, 2)))\n",
    "#Learns more abstract patterns such as roughness, discoloration, or shape irregularities of skin lesions.\n",
    "#3 layer\n",
    "model.add(Conv2D(128, (3, 3), activation='relu'))\n",
    "model.add(MaxPooling2D(pool_size=(2, 2)))\n",
    "#4 layer\n",
    "model.add(Flatten())\n",
    "#Converts the pooled feature maps into a one-dimensional vector that the Dense layers can process.\n",
    "model.add(Dropout(0.5))\n",
    "#Randomly disables 50% of neurons during training to prevent overfitting and improve generalization on unseen skin images.\n",
    "#5 layer\n",
    "model.add(Dense(128, activation='relu'))\n",
    "#Learns complex combinations of features for decision-making\n",
    "#output layer\n",
    "model.add(Dense(20, activation='softmax'))\n",
    "#The softmax activation outputs probabilities across 20 skin disease classes—making this perfect for multi-class classification.\n"
   ]
  },
  {
   "cell_type": "markdown",
   "metadata": {},
   "source": [
    "Conv2D: for feature detection (like skin patterns) /Detects edges, shapes, and textures using 32 filters of size 3x3.\n",
    "\n",
    "input_shape: Matches your image size and channels (RGB).\n",
    "\n",
    "MaxPooling: Cuts image size in half while preserving key features./for reducing spatial dimensions\n",
    "\n",
    "Flatten: to convert features into a flat vector\n",
    "\n",
    "Dense: for classification layers\n",
    "\n",
    "Dropout: for regularization to avoid overfitting"
   ]
  },
  {
   "cell_type": "markdown",
   "metadata": {},
   "source": [
    "#### Training the data"
   ]
  },
  {
   "cell_type": "code",
   "execution_count": null,
   "metadata": {},
   "outputs": [],
   "source": [
    "model.compile(\n",
    "    optimizer='adam',\n",
    "    loss='categorical_crossentropy',\n",
    "    metrics=['accuracy']\n",
    ")\n",
    "\n",
    "\n",
    "#### HAVING ISSUES WITH THE FIT FUNCTION FIX IF POSSIBLE!!!\n",
    "\n",
    "# model.fit(\n",
    "#     train_generator,         \n",
    "#     validation_data=val_generator,  \n",
    "#     epochs=10                 \n",
    "# )\n"
   ]
  },
  {
   "cell_type": "code",
   "execution_count": null,
   "metadata": {},
   "outputs": [],
   "source": []
  },
  {
   "cell_type": "markdown",
   "metadata": {},
   "source": [
    "## Visual exploration of the kenyan budget in healthcare"
   ]
  },
  {
   "cell_type": "code",
   "execution_count": 7,
   "metadata": {},
   "outputs": [],
   "source": [
    "import pandas as pd"
   ]
  },
  {
   "cell_type": "code",
   "execution_count": 8,
   "metadata": {},
   "outputs": [
    {
     "data": {
      "text/html": [
       "<div>\n",
       "<style scoped>\n",
       "    .dataframe tbody tr th:only-of-type {\n",
       "        vertical-align: middle;\n",
       "    }\n",
       "\n",
       "    .dataframe tbody tr th {\n",
       "        vertical-align: top;\n",
       "    }\n",
       "\n",
       "    .dataframe thead th {\n",
       "        text-align: right;\n",
       "    }\n",
       "</style>\n",
       "<table border=\"1\" class=\"dataframe\">\n",
       "  <thead>\n",
       "    <tr style=\"text-align: right;\">\n",
       "      <th></th>\n",
       "      <th>Year</th>\n",
       "      <th>Healthcare Spending</th>\n",
       "    </tr>\n",
       "  </thead>\n",
       "  <tbody>\n",
       "    <tr>\n",
       "      <th>0</th>\n",
       "      <td>2000</td>\n",
       "      <td>21.53</td>\n",
       "    </tr>\n",
       "    <tr>\n",
       "      <th>1</th>\n",
       "      <td>2001</td>\n",
       "      <td>22.11</td>\n",
       "    </tr>\n",
       "    <tr>\n",
       "      <th>2</th>\n",
       "      <td>2002</td>\n",
       "      <td>22.29</td>\n",
       "    </tr>\n",
       "    <tr>\n",
       "      <th>3</th>\n",
       "      <td>2003</td>\n",
       "      <td>25.64</td>\n",
       "    </tr>\n",
       "    <tr>\n",
       "      <th>4</th>\n",
       "      <td>2004</td>\n",
       "      <td>27.65</td>\n",
       "    </tr>\n",
       "  </tbody>\n",
       "</table>\n",
       "</div>"
      ],
      "text/plain": [
       "   Year  Healthcare Spending\n",
       "0  2000                21.53\n",
       "1  2001                22.11\n",
       "2  2002                22.29\n",
       "3  2003                25.64\n",
       "4  2004                27.65"
      ]
     },
     "execution_count": 8,
     "metadata": {},
     "output_type": "execute_result"
    }
   ],
   "source": [
    "hcspc = pd.read_csv(\"datasets\\Kenya-Healthcare-Spending-Per-Capita-US-2025-07-15-14-43.csv\")\n",
    "hcspc.rename(columns={'Unnamed: 0': 'Year'}, inplace=True)\n",
    "hcspc.head()"
   ]
  },
  {
   "cell_type": "code",
   "execution_count": 9,
   "metadata": {},
   "outputs": [
    {
     "data": {
      "text/plain": [
       "Index(['Year', 'Healthcare Spending'], dtype='object')"
      ]
     },
     "execution_count": 9,
     "metadata": {},
     "output_type": "execute_result"
    }
   ],
   "source": [
    "hcspc.columns"
   ]
  },
  {
   "cell_type": "code",
   "execution_count": 10,
   "metadata": {},
   "outputs": [
    {
     "data": {
      "image/png": "[encoded data removed]",
      "text/plain": [
       "<Figure size 432x288 with 1 Axes>"
      ]
     },
     "metadata": {
      "needs_background": "light"
     },
     "output_type": "display_data"
    }
   ],
   "source": [
    "x = hcspc['Year']\n",
    "y = hcspc['Healthcare Spending']\n",
    "plt.plot(x,y)\n",
    "plt.xlabel('Year')\n",
    "plt.ylabel('Kenya-Healthcare-Spending-Per-Capita ($)')\n",
    "plt.title('Kenya-Healthcare-Spending-Per-Capita ($)')\n",
    "plt.show();"
   ]
  },
  {
   "cell_type": "markdown",
   "metadata": {},
   "source": [
    "* Kenya healthcare spending per capita for 2022 was 90.44usd, a 3.9% decline from 2021.\n",
    "* Kenya healthcare spending per capita for 2021 was 94.11usd, a 8.68% increase from 2020.\n",
    "* Kenya healthcare spending per capita for 2020 was 86.59usd, a 1.11% increase from 2019.\n",
    "* Kenya healthcare spending per capita for 2019 was 85.65usd, a 1 3.77% increase from 2018.\n",
    "* Current expenditures on health per capita in current US dollars. Estimates of current health expenditures include healthcare goods and services consumed during each year."
   ]
  },
  {
   "cell_type": "code",
   "execution_count": null,
   "metadata": {},
   "outputs": [],
   "source": []
  },
  {
   "cell_type": "code",
   "execution_count": 11,
   "metadata": {},
   "outputs": [
    {
     "data": {
      "text/html": [
       "<div>\n",
       "<style scoped>\n",
       "    .dataframe tbody tr th:only-of-type {\n",
       "        vertical-align: middle;\n",
       "    }\n",
       "\n",
       "    .dataframe tbody tr th {\n",
       "        vertical-align: top;\n",
       "    }\n",
       "\n",
       "    .dataframe thead th {\n",
       "        text-align: right;\n",
       "    }\n",
       "</style>\n",
       "<table border=\"1\" class=\"dataframe\">\n",
       "  <thead>\n",
       "    <tr style=\"text-align: right;\">\n",
       "      <th></th>\n",
       "      <th>Unnamed: 0</th>\n",
       "      <th>Healthcare Spending</th>\n",
       "    </tr>\n",
       "  </thead>\n",
       "  <tbody>\n",
       "    <tr>\n",
       "      <th>0</th>\n",
       "      <td>2000</td>\n",
       "      <td>3.62</td>\n",
       "    </tr>\n",
       "    <tr>\n",
       "      <th>1</th>\n",
       "      <td>2001</td>\n",
       "      <td>3.74</td>\n",
       "    </tr>\n",
       "    <tr>\n",
       "      <th>2</th>\n",
       "      <td>2002</td>\n",
       "      <td>3.82</td>\n",
       "    </tr>\n",
       "    <tr>\n",
       "      <th>3</th>\n",
       "      <td>2003</td>\n",
       "      <td>4.03</td>\n",
       "    </tr>\n",
       "    <tr>\n",
       "      <th>4</th>\n",
       "      <td>2004</td>\n",
       "      <td>4.21</td>\n",
       "    </tr>\n",
       "  </tbody>\n",
       "</table>\n",
       "</div>"
      ],
      "text/plain": [
       "   Unnamed: 0  Healthcare Spending\n",
       "0        2000                 3.62\n",
       "1        2001                 3.74\n",
       "2        2002                 3.82\n",
       "3        2003                 4.03\n",
       "4        2004                 4.21"
      ]
     },
     "execution_count": 11,
     "metadata": {},
     "output_type": "execute_result"
    }
   ],
   "source": [
    "hcsgdp = pd.read_csv(\"datasets\\Kenya-Healthcare-Spending--of-GDP-2025-07-15-17-11.csv\")\n",
    "hcsgdp.head()"
   ]
  },
  {
   "cell_type": "code",
   "execution_count": 12,
   "metadata": {},
   "outputs": [
    {
     "data": {
      "text/html": [
       "<div>\n",
       "<style scoped>\n",
       "    .dataframe tbody tr th:only-of-type {\n",
       "        vertical-align: middle;\n",
       "    }\n",
       "\n",
       "    .dataframe tbody tr th {\n",
       "        vertical-align: top;\n",
       "    }\n",
       "\n",
       "    .dataframe thead th {\n",
       "        text-align: right;\n",
       "    }\n",
       "</style>\n",
       "<table border=\"1\" class=\"dataframe\">\n",
       "  <thead>\n",
       "    <tr style=\"text-align: right;\">\n",
       "      <th></th>\n",
       "      <th>Year</th>\n",
       "      <th>Healthcare Spending</th>\n",
       "    </tr>\n",
       "  </thead>\n",
       "  <tbody>\n",
       "    <tr>\n",
       "      <th>0</th>\n",
       "      <td>2000</td>\n",
       "      <td>3.62</td>\n",
       "    </tr>\n",
       "    <tr>\n",
       "      <th>1</th>\n",
       "      <td>2001</td>\n",
       "      <td>3.74</td>\n",
       "    </tr>\n",
       "    <tr>\n",
       "      <th>2</th>\n",
       "      <td>2002</td>\n",
       "      <td>3.82</td>\n",
       "    </tr>\n",
       "    <tr>\n",
       "      <th>3</th>\n",
       "      <td>2003</td>\n",
       "      <td>4.03</td>\n",
       "    </tr>\n",
       "    <tr>\n",
       "      <th>4</th>\n",
       "      <td>2004</td>\n",
       "      <td>4.21</td>\n",
       "    </tr>\n",
       "  </tbody>\n",
       "</table>\n",
       "</div>"
      ],
      "text/plain": [
       "   Year  Healthcare Spending\n",
       "0  2000                 3.62\n",
       "1  2001                 3.74\n",
       "2  2002                 3.82\n",
       "3  2003                 4.03\n",
       "4  2004                 4.21"
      ]
     },
     "execution_count": 12,
     "metadata": {},
     "output_type": "execute_result"
    }
   ],
   "source": [
    "hcsgdp.rename(columns={'Unnamed: 0': 'Year'}, inplace=True)\n",
    "hcsgdp.head()"
   ]
  },
  {
   "cell_type": "code",
   "execution_count": 13,
   "metadata": {},
   "outputs": [
    {
     "data": {
      "image/png": "[encoded data removed]",
      "text/plain": [
       "<Figure size 432x288 with 1 Axes>"
      ]
     },
     "metadata": {
      "needs_background": "light"
     },
     "output_type": "display_data"
    }
   ],
   "source": [
    "x = hcsgdp['Year']\n",
    "y = hcsgdp['Healthcare Spending']\n",
    "plt.plot(x,y)\n",
    "plt.xlabel('Year')\n",
    "plt.ylabel('Kenya-Healthcare-Spending-of-GDP (% of GDP)')\n",
    "plt.title('Kenya-Healthcare-Spending--of-GDP')\n",
    "plt.show();"
   ]
  },
  {
   "cell_type": "code",
   "execution_count": null,
   "metadata": {},
   "outputs": [],
   "source": []
  },
  {
   "cell_type": "code",
   "execution_count": null,
   "metadata": {},
   "outputs": [],
   "source": []
  }
 ],
 "metadata": {
  "kernelspec": {
   "display_name": "Python (learn-env)",
   "language": "python",
   "name": "learn-env"
  }
 },
 "nbformat": 4,
 "nbformat_minor": 4
}
